{
  "nbformat": 4,
  "nbformat_minor": 0,
  "metadata": {
    "colab": {
      "name": "encode message.ipynb",
      "provenance": [],
      "authorship_tag": "ABX9TyPGl96s+YwYI4YjWn608ShI",
      "include_colab_link": true
    },
    "kernelspec": {
      "name": "python3",
      "display_name": "Python 3"
    }
  },
  "cells": [
    {
      "cell_type": "markdown",
      "metadata": {
        "id": "view-in-github",
        "colab_type": "text"
      },
      "source": [
        "<a href=\"https://colab.research.google.com/github/SowmyaLR/Hackerearth/blob/master/encode_message.ipynb\" target=\"_parent\"><img src=\"https://colab.research.google.com/assets/colab-badge.svg\" alt=\"Open In Colab\"/></a>"
      ]
    },
    {
      "cell_type": "code",
      "metadata": {
        "id": "qsFJZS_TFbq9",
        "colab_type": "code",
        "colab": {
          "base_uri": "https://localhost:8080/",
          "height": 34
        },
        "outputId": "d7c827b1-36d8-4afe-842f-dba0909f6000"
      },
      "source": [
        "st = 'sharechat'\n",
        "arr = list(st)\n",
        "arr"
      ],
      "execution_count": 22,
      "outputs": [
        {
          "output_type": "execute_result",
          "data": {
            "text/plain": [
              "['s', 'h', 'a', 'r', 'e', 'c', 'h', 'a', 't']"
            ]
          },
          "metadata": {
            "tags": []
          },
          "execution_count": 22
        }
      ]
    },
    {
      "cell_type": "code",
      "metadata": {
        "id": "fJpNTZEQhpjj",
        "colab_type": "code",
        "colab": {
          "base_uri": "https://localhost:8080/",
          "height": 34
        },
        "outputId": "8204dc8e-8611-4408-9973-b42f5a8ee02b"
      },
      "source": [
        "arr[0] = 'w'\n",
        "arr\n",
        "st = ''\n",
        "st.join(arr)"
      ],
      "execution_count": 26,
      "outputs": [
        {
          "output_type": "execute_result",
          "data": {
            "text/plain": [
              "'wharechat'"
            ]
          },
          "metadata": {
            "tags": []
          },
          "execution_count": 26
        }
      ]
    },
    {
      "cell_type": "code",
      "metadata": {
        "id": "psKzE_j0iWq4",
        "colab_type": "code",
        "colab": {
          "base_uri": "https://localhost:8080/",
          "height": 34
        },
        "outputId": "46466cfa-5434-4675-c448-7183119a7e5c"
      },
      "source": [
        "ord('a') + 25 - 26"
      ],
      "execution_count": 47,
      "outputs": [
        {
          "output_type": "execute_result",
          "data": {
            "text/plain": [
              "96"
            ]
          },
          "metadata": {
            "tags": []
          },
          "execution_count": 47
        }
      ]
    },
    {
      "cell_type": "code",
      "metadata": {
        "id": "ShnaSNoYm44A",
        "colab_type": "code",
        "colab": {
          "base_uri": "https://localhost:8080/",
          "height": 34
        },
        "outputId": "1bc9a060-652c-4ff9-f00d-ec25422cf3ae"
      },
      "source": [
        "blank_code = 'abcdefghijklmnopqrstuvwxyz'\n",
        "\n",
        "key = 'n'\n",
        "\n",
        "val = blank_code.index(key) + 1\n",
        "\n",
        "blank_code[-val]\n",
        "#val"
      ],
      "execution_count": 60,
      "outputs": [
        {
          "output_type": "execute_result",
          "data": {
            "text/plain": [
              "'m'"
            ]
          },
          "metadata": {
            "tags": []
          },
          "execution_count": 60
        }
      ]
    },
    {
      "cell_type": "code",
      "metadata": {
        "id": "bZL2XJcKoR2h",
        "colab_type": "code",
        "colab": {
          "base_uri": "https://localhost:8080/",
          "height": 85
        },
        "outputId": "e18f4d94-67f0-4bf6-fc5f-b893e9699de3"
      },
      "source": [
        "st = 'sharechat'\n",
        "\n",
        "for i in range(0,8,2):\n",
        "  print(st[i])"
      ],
      "execution_count": 65,
      "outputs": [
        {
          "output_type": "stream",
          "text": [
            "s\n",
            "a\n",
            "e\n",
            "h\n"
          ],
          "name": "stdout"
        }
      ]
    },
    {
      "cell_type": "code",
      "metadata": {
        "id": "8yK0dtvzou0E",
        "colab_type": "code",
        "colab": {
          "base_uri": "https://localhost:8080/",
          "height": 34
        },
        "outputId": "1ea14466-ebdd-472d-e10b-2b923f85d03a"
      },
      "source": [
        "def swap_char(val,val_len):\n",
        "  for i in range(0,val_len,2):\n",
        "    temp = val[i+1]\n",
        "    val[i+1] = val[i]\n",
        "    val[i] = temp\n",
        "  return val\n",
        "\n",
        "swap_char(['s','h','a','r','e','c','h','a','t'],8)"
      ],
      "execution_count": 68,
      "outputs": [
        {
          "output_type": "execute_result",
          "data": {
            "text/plain": [
              "['h', 's', 'r', 'a', 'c', 'e', 'a', 'h', 't']"
            ]
          },
          "metadata": {
            "tags": []
          },
          "execution_count": 68
        }
      ]
    },
    {
      "cell_type": "code",
      "metadata": {
        "id": "lHOaVq8Wpg0b",
        "colab_type": "code",
        "colab": {
          "base_uri": "https://localhost:8080/",
          "height": 34
        },
        "outputId": "fe0aa221-42f7-4aa4-bffa-97c2bb976d4b"
      },
      "source": [
        "st = ''\n",
        "for i in range(0,5):\n",
        "  st = st + st.join(str(i))\n",
        "print(st)"
      ],
      "execution_count": 73,
      "outputs": [
        {
          "output_type": "stream",
          "text": [
            "01234\n"
          ],
          "name": "stdout"
        }
      ]
    },
    {
      "cell_type": "code",
      "metadata": {
        "id": "cb5fOiwrp5al",
        "colab_type": "code",
        "colab": {
          "base_uri": "https://localhost:8080/",
          "height": 34
        },
        "outputId": "0ba2d93b-d4f5-4543-9e0b-6bfdf03abd84"
      },
      "source": [
        "def encode_str(val_arr):\n",
        "  blank_code = 'abcdefghijklmnopqrstuvwxyz'\n",
        "  result = ''\n",
        "  for i in range(0,len(val_arr)):\n",
        "    val = blank_code.index(val_arr[i]) + 1\n",
        "    result = result + result.join(blank_code[-val])\n",
        "  return result\n",
        "\n",
        "encode_str(['h', 's', 'r', 'a', 'c', 'e', 'a', 'h', 't'])\n"
      ],
      "execution_count": 75,
      "outputs": [
        {
          "output_type": "execute_result",
          "data": {
            "text/plain": [
              "'shizxvzsg'"
            ]
          },
          "metadata": {
            "tags": []
          },
          "execution_count": 75
        }
      ]
    },
    {
      "cell_type": "code",
      "metadata": {
        "id": "HRydOPs4q2gj",
        "colab_type": "code",
        "colab": {
          "base_uri": "https://localhost:8080/",
          "height": 136
        },
        "outputId": "cae31a5e-0763-4958-c1da-e8f45e54dc0e"
      },
      "source": [
        "test = int(input())\n",
        "while test>0:\n",
        "  n = int(input())\n",
        "  inp_st = list(input())\n",
        "  if n%2==1:\n",
        "    n = n-1\n",
        "  val_arr = swap_char(inp_st,n)\n",
        "  print(encode_str(val_arr))\n",
        "  test = test - 1"
      ],
      "execution_count": 77,
      "outputs": [
        {
          "output_type": "stream",
          "text": [
            "Enter: 3\n",
            "size: 2\n",
            "input: sowmya\n",
            "size: 2\n",
            "input: wer\n",
            "size: 2\n",
            "input: wewe\n"
          ],
          "name": "stdout"
        }
      ]
    }
  ]
}